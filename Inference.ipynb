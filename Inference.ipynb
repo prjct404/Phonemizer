{
 "cells": [
  {
   "cell_type": "markdown",
   "metadata": {
    "id": "9sEfZoepGP8x"
   },
   "source": [
    "# Setup Environment"
   ]
  },
  {
   "cell_type": "code",
   "execution_count": 1,
   "metadata": {
    "colab": {
     "base_uri": "https://localhost:8080/"
    },
    "id": "brKU69ZQvEiz",
    "outputId": "dc3c06c4-5a4f-4469-9447-acf5a15750c2"
   },
   "outputs": [],
   "source": [
    "!pip install -q unidecode"
   ]
  },
  {
   "cell_type": "markdown",
   "metadata": {
    "id": "Nwt1YBYVqcva"
   },
   "source": [
    "# Setup Model"
   ]
  },
  {
   "cell_type": "code",
   "execution_count": 2,
   "metadata": {
    "colab": {
     "base_uri": "https://localhost:8080/"
    },
    "id": "l_KnAgVoAS83",
    "outputId": "2d3fe260-e8bf-41e2-e35b-3b61dcd59dc7"
   },
   "outputs": [
    {
     "name": "stdout",
     "output_type": "stream",
     "text": [
      "Cloning into 'Homo-GE2PE-Persian'...\n",
      "remote: Enumerating objects: 32, done.\u001b[K\n",
      "remote: Counting objects: 100% (28/28), done.\u001b[K\n",
      "remote: Compressing objects: 100% (27/27), done.\u001b[K\n",
      "remote: Total 32 (delta 7), reused 0 (delta 0), pack-reused 4 (from 1)\u001b[K\n",
      "Unpacking objects: 100% (32/32), 27.25 KiB | 1.36 MiB/s, done.\n",
      "Filtering content: 100% (3/3), 218.23 MiB | 50.60 MiB/s, done.\n"
     ]
    }
   ],
   "source": [
    "!git clone https://huggingface.co/MahtaFetrat/Homo-GE2PE-Persian/"
   ]
  },
  {
   "cell_type": "code",
   "execution_count": 3,
   "metadata": {
    "id": "kbsS_rWVAkYt"
   },
   "outputs": [],
   "source": [
    "!unzip -q Homo-GE2PE-Persian/assets/Parsivar.zip\n",
    "!unzip -q Homo-GE2PE-Persian/model-weights/homo-ge2pe.zip -d homo-ge2pe\n",
    "!unzip -q Homo-GE2PE-Persian/model-weights/homo-t5.zip -d homo-t5"
   ]
  },
  {
   "cell_type": "code",
   "execution_count": 4,
   "metadata": {
    "id": "sG6P0nbUAood"
   },
   "outputs": [],
   "source": [
    "!mv Homo-GE2PE-Persian/assets/GE2PE.py ./"
   ]
  },
  {
   "cell_type": "code",
   "execution_count": 5,
   "metadata": {
    "id": "VIRvJy8naB0f"
   },
   "outputs": [],
   "source": [
    "!sed -i 's+from collections import Iterable+from collections.abc import Iterable+g' /content/Parsivar/token_merger.py"
   ]
  },
  {
   "cell_type": "markdown",
   "metadata": {
    "id": "3UjjHbxNIIMt"
   },
   "source": [
    "# Inference"
   ]
  },
  {
   "cell_type": "code",
   "execution_count": 6,
   "metadata": {
    "colab": {
     "base_uri": "https://localhost:8080/"
    },
    "id": "Qs-J5B3ykaYz",
    "outputId": "a64ca839-b970-4796-88aa-0d80f3342e08"
   },
   "outputs": [
    {
     "data": {
      "text/plain": [
       "['teste model t/bdil nevise be vaj', '@in ketabe @ali @/st']"
      ]
     },
     "execution_count": 6,
     "metadata": {},
     "output_type": "execute_result"
    }
   ],
   "source": [
    "from GE2PE import GE2PE\n",
    "\n",
    "g2p = GE2PE(model_path='/content/homo-ge2pe') # or homo-t5\n",
    "\n",
    "g2p.generate(['تست مدل تبدیل نویسه به واج', 'این کتابِ علی است'], use_rules=True)"
   ]
  }
 ],
 "metadata": {
  "colab": {
   "provenance": []
  },
  "gpuClass": "standard",
  "kernelspec": {
   "display_name": "Python 3 (ipykernel)",
   "language": "python",
   "name": "python3"
  },
  "language_info": {
   "codemirror_mode": {
    "name": "ipython",
    "version": 3
   },
   "file_extension": ".py",
   "mimetype": "text/x-python",
   "name": "python",
   "nbconvert_exporter": "python",
   "pygments_lexer": "ipython3",
   "version": "3.10.9"
  }
 },
 "nbformat": 4,
 "nbformat_minor": 1
}
